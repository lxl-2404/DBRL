{
 "cells": [
  {
   "cell_type": "markdown",
   "metadata": {},
   "source": [
    "### Tutorial of dogfight simulation algorithm training and testing"
   ]
  },
  {
   "cell_type": "markdown",
   "metadata": {},
   "source": [
    "#### Clone GitHub repository and install dependencies."
   ]
  },
  {
   "cell_type": "code",
   "execution_count": null,
   "metadata": {
    "vscode": {
     "languageId": "powershell"
    }
   },
   "outputs": [],
   "source": [
    "pip install jsbsim"
   ]
  },
  {
   "cell_type": "code",
   "execution_count": 1,
   "metadata": {},
   "outputs": [
    {
     "name": "stdout",
     "output_type": "stream",
     "text": [
      "c:\\Users\\mrwan\\.conda\\envs\\jsbsim\\share\\JSBSim\n"
     ]
    }
   ],
   "source": [
    "import jsbsim\n",
    "\n",
    "print(jsbsim.get_default_root_dir())"
   ]
  },
  {
   "cell_type": "code",
   "execution_count": null,
   "metadata": {
    "vscode": {
     "languageId": "powershell"
    }
   },
   "outputs": [],
   "source": [
    "cd c:/Users/mrwan/.conda/envs/jsbsim/share\n",
    "\n",
    "git clone git@github.com:JSBSim-Team/jsbsim.git\n",
    "\n",
    "cd jsbsim\n",
    "\n",
    "# Skip the next line of code if you've already cloned DBRL in Dogfight2 environment\n",
    "git clone https://github.com/mrwangyou/DBRL.git\n",
    "\n",
    "cd DBRL"
   ]
  },
  {
   "cell_type": "markdown",
   "metadata": {},
   "source": [
    "#### Download FlightGear"
   ]
  },
  {
   "cell_type": "markdown",
   "metadata": {},
   "source": [
    "If you are using Windows, please download [FlightGear for Windows](https://sourceforge.net/projects/flightgear/files/release-2020.3/FlightGear-2020.3.13.exe/download). If you are using Linux x86 systems, download [AppImage binary release](https://sourceforge.net/projects/flightgear/files/release-2020.3/FlightGear-2020.3.13-x86_64.AppImage/download).\n",
    "\n",
    "Run two FlightGear separately with the attributes below\n",
    "\n",
    "```bash\n",
    "--fdm=null --native-fdm=socket,in,60,,5550,udp --multiplay=out,10,127.0.0.1,5000 --multiplay=in,10,127.0.0.1,5001 --callsign=Test1\n",
    "\n",
    "--fdm=null --native-fdm=socket,in,60,,5550,udp --multiplay=out,10,127.0.0.1,5001 --multiplay=in,10,127.0.0.1,5000 --callsign=Test2\n",
    "```\n",
    "\n",
    "![FlightGear attribute](images/fgattribute.png)"
   ]
  },
  {
   "cell_type": "markdown",
   "metadata": {},
   "source": [
    "#### Register JSBSimEnv in Gym"
   ]
  },
  {
   "cell_type": "code",
   "execution_count": 2,
   "metadata": {
    "vscode": {
     "languageId": "powershell"
    }
   },
   "outputs": [
    {
     "name": "stdout",
     "output_type": "stream",
     "text": [
      "Name: gym\n",
      "Version: 0.21.0\n",
      "Summary: Gym: A universal API for reinforcement learning environments.\n",
      "Home-page: https://github.com/openai/gym\n",
      "Author: OpenAI\n",
      "Author-email: jkterry@umd.edu\n",
      "License: \n",
      "Location: c:\\users\\mrwan\\.conda\\envs\\jsbsim\\lib\\site-packages\n",
      "Requires: cloudpickle, numpy\n",
      "Required-by: stable-baselines3\n",
      "Note: you may need to restart the kernel to use updated packages.\n"
     ]
    }
   ],
   "source": [
    "pip show gym"
   ]
  },
  {
   "cell_type": "code",
   "execution_count": null,
   "metadata": {
    "vscode": {
     "languageId": "powershell"
    }
   },
   "outputs": [],
   "source": [
    "# Replace the path with your own Gym directory\n",
    "cp ./src/environments/jsbsimEnv/ c:/users/mrwan/.conda/envs/jsbsim/lib/site-packages/gym/envs/ -r"
   ]
  },
  {
   "cell_type": "markdown",
   "metadata": {},
   "source": [
    "Add the following code to `{GYM}/envs/__init__.py`.\n",
    "\n",
    "```python\n",
    "register(\n",
    "    id=\"DBRLJsbsim-v0\",\n",
    "    entry_point=\"gym.envs.jsbsimEnv:JsbsimEnv\",\n",
    ")\n",
    "```"
   ]
  },
  {
   "cell_type": "markdown",
   "metadata": {},
   "source": [
    "#### Start to train or test the dogfighting algorithm"
   ]
  },
  {
   "cell_type": "code",
   "execution_count": null,
   "metadata": {
    "vscode": {
     "languageId": "powershell"
    }
   },
   "outputs": [],
   "source": [
    "python ./src/models/sac_jsbsim.py --train --test --timesteps 1000000"
   ]
  },
  {
   "cell_type": "markdown",
   "metadata": {},
   "source": [
    "---"
   ]
  },
  {
   "cell_type": "markdown",
   "metadata": {},
   "source": [
    "### Tutorial of missile-evading algorithm training and testing"
   ]
  },
  {
   "cell_type": "markdown",
   "metadata": {},
   "source": [
    "#### Install dependencies."
   ]
  },
  {
   "cell_type": "code",
   "execution_count": null,
   "metadata": {
    "vscode": {
     "languageId": "powershell"
    }
   },
   "outputs": [],
   "source": [
    "cd jsbsim\n",
    "\n",
    "# Skip the next line of code if you've already cloned DBRL in JSBSim environment\n",
    "git clone https://github.com/mrwangyou/DBRL.git\n",
    "\n",
    "cd DBRL\n",
    "\n",
    "wget -Uri https://github.com/harfang3d/dogfight-sandbox-hg2/releases/download/1.0.2/dogfight-sandbox-hg2-win64.7z -OutFile \"df2.7z\"\n",
    "7z x -odf2/ df2.7z\n",
    "mv ./df2/dogfight-sandbox-hg2/ ./src/environments/dogfightEnv/dogfight_sandbox_hg2/\n",
    "del df2/, df2.7z"
   ]
  },
  {
   "cell_type": "markdown",
   "metadata": {},
   "source": [
    "#### Register DogfightEnv in Gym."
   ]
  },
  {
   "cell_type": "code",
   "execution_count": 3,
   "metadata": {
    "vscode": {
     "languageId": "powershell"
    }
   },
   "outputs": [
    {
     "name": "stdout",
     "output_type": "stream",
     "text": [
      "Name: gym\n",
      "Version: 0.21.0\n",
      "Summary: Gym: A universal API for reinforcement learning environments.\n",
      "Home-page: https://github.com/openai/gym\n",
      "Author: OpenAI\n",
      "Author-email: jkterry@umd.edu\n",
      "License: \n",
      "Location: c:\\users\\mrwan\\.conda\\envs\\jsbsim\\lib\\site-packages\n",
      "Requires: cloudpickle, numpy\n",
      "Required-by: stable-baselines3\n",
      "Note: you may need to restart the kernel to use updated packages.\n"
     ]
    }
   ],
   "source": [
    "pip show gym"
   ]
  },
  {
   "cell_type": "code",
   "execution_count": null,
   "metadata": {
    "vscode": {
     "languageId": "powershell"
    }
   },
   "outputs": [],
   "source": [
    "# Replace the path with your own Gym directory\n",
    "cp ./src/environments/dogfightEnv/ c:/users/mrwan/.conda/envs/jsbsim/lib/site-packages/gym/envs/ -r"
   ]
  },
  {
   "cell_type": "markdown",
   "metadata": {},
   "source": [
    "Add the following code to `{GYM}/envs/__init__.py`.\n",
    "\n",
    "```python\n",
    "register(\n",
    "    id=\"DBRLDogfight-v0\",\n",
    "    entry_point=\"gym.envs.dogfightEnv:DogfightEnv\",\n",
    ")\n",
    "```"
   ]
  },
  {
   "cell_type": "markdown",
   "metadata": {},
   "source": [
    "#### Run df2"
   ]
  },
  {
   "cell_type": "markdown",
   "metadata": {},
   "source": [
    "Run `evade.bat` in `./src/environments/dogfightEnv/` for missile evading mode.\n",
    "\n",
    "Run `start.bat` in `dogfight_sandbox_hg2/`, choose \"Network Mode\", and press space. The host and port IP are in the upper left corner of the screen.\n",
    "\n",
    "![Host and port figure](images/host.png)"
   ]
  },
  {
   "cell_type": "markdown",
   "metadata": {},
   "source": [
    "#### Start to train or test the evading algorithm."
   ]
  },
  {
   "cell_type": "code",
   "execution_count": null,
   "metadata": {
    "vscode": {
     "languageId": "powershell"
    }
   },
   "outputs": [],
   "source": [
    "# Replace the parameters with your own host and port\n",
    "python ./df2.py --host 192.168.239.1 --port 50888 --train --test --timesteps 50000 --model SAC --initial-state air --flare-enable --ego-pose-enable --missile-pose-enable"
   ]
  }
 ],
 "metadata": {
  "kernelspec": {
   "display_name": "Python 3.9.7 ('jsbsim')",
   "language": "python",
   "name": "python3"
  },
  "language_info": {
   "codemirror_mode": {
    "name": "ipython",
    "version": 3
   },
   "file_extension": ".py",
   "mimetype": "text/x-python",
   "name": "python",
   "nbconvert_exporter": "python",
   "pygments_lexer": "ipython3",
   "version": "3.9.16"
  },
  "orig_nbformat": 4,
  "vscode": {
   "interpreter": {
    "hash": "663e50e37becc1d53f39f342eec15d3c22c0771839e1c61f0c2308195e9fefc0"
   }
  }
 },
 "nbformat": 4,
 "nbformat_minor": 2
}
