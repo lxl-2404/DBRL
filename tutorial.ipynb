{
 "cells": [
  {
   "cell_type": "markdown",
   "metadata": {},
   "source": [
    "### Tutorial of missile-evading algorithm training and testing"
   ]
  },
  {
   "cell_type": "markdown",
   "metadata": {},
   "source": [
    "Clone GitHub repository and install dependencies."
   ]
  },
  {
   "cell_type": "code",
   "execution_count": null,
   "metadata": {
    "vscode": {
     "languageId": "powershell"
    }
   },
   "outputs": [],
   "source": [
    "cd jsbsim\n",
    "\n",
    "git clone https://github.com/mrwangyou/DBRL.git\n",
    "\n",
    "cd DBRL\n",
    "\n",
    "wget -Uri https://github.com/harfang3d/dogfight-sandbox-hg2/releases/download/1.0.2/dogfight-sandbox-hg2-win64.7z -OutFile \"df2.7z\"\n",
    "7z x -odf2/ df2.7z\n",
    "mv ./df2/dogfight-sandbox-hg2/ ./src/environments/dogfightEnv/dogfight_sandbox_hg2/\n",
    "del df2/, df2.7z"
   ]
  },
  {
   "cell_type": "markdown",
   "metadata": {},
   "source": [
    "> Open `./src/environments/environments/dogfightEnv/dogfight_sandbox_hg/network_client_example/dogfight_client.py`, and replace Line 2 `import socket_lib` with `from gym.envs.dogfightEnv.dogfight_sandbox_hg2.network_client_example import socket_lib`"
   ]
  },
  {
   "cell_type": "markdown",
   "metadata": {},
   "source": [
    "Register DogfightEnv in Gym."
   ]
  },
  {
   "cell_type": "code",
   "execution_count": 1,
   "metadata": {
    "vscode": {
     "languageId": "powershell"
    }
   },
   "outputs": [
    {
     "name": "stdout",
     "output_type": "stream",
     "text": [
      "Name: gym\n",
      "Version: 0.21.0\n",
      "Summary: Gym: A universal API for reinforcement learning environments.\n",
      "Home-page: https://github.com/openai/gym\n",
      "Author: OpenAI\n",
      "Author-email: jkterry@umd.edu\n",
      "License: \n",
      "Location: c:\\users\\mrwan\\.conda\\envs\\jsbsim\\lib\\site-packages\n",
      "Requires: cloudpickle, numpy\n",
      "Required-by: stable-baselines3\n",
      "Note: you may need to restart the kernel to use updated packages.\n"
     ]
    }
   ],
   "source": [
    "pip show gym"
   ]
  },
  {
   "cell_type": "code",
   "execution_count": null,
   "metadata": {
    "vscode": {
     "languageId": "powershell"
    }
   },
   "outputs": [],
   "source": [
    "cp ./src/environments/dogfightEnv/ c:/users/mrwan/.conda/envs/jsbsim/lib/site-packages/gym/envs/ -r"
   ]
  },
  {
   "cell_type": "markdown",
   "metadata": {},
   "source": [
    "Add the following code to `{GYM}/envs/__init__py`.\n",
    "\n",
    "```python\n",
    "register(\n",
    "    id=\"DBRLDogfight-v0\",\n",
    "    entry_point=\"gym.envs.dogfightEnv:DogfightEnv\",\n",
    ")\n",
    "```"
   ]
  },
  {
   "cell_type": "markdown",
   "metadata": {},
   "source": [
    "Run `start.bat` in `dogfight_sandbox_hg2/`, choose \"Network Mode\", and press space. The host and port IP are in the upper left corner of the screen.\n",
    "\n",
    "![Host and port figure](./images/host.png)"
   ]
  },
  {
   "cell_type": "markdown",
   "metadata": {},
   "source": [
    "Start to train or test the evading algorithm."
   ]
  },
  {
   "cell_type": "code",
   "execution_count": null,
   "metadata": {
    "vscode": {
     "languageId": "powershell"
    }
   },
   "outputs": [],
   "source": [
    "python ./src/models/sac_df2.py --host 192.168.239.1 --port 50888"
   ]
  }
 ],
 "metadata": {
  "kernelspec": {
   "display_name": "Python 3.9.7 ('jsbsim')",
   "language": "python",
   "name": "python3"
  },
  "language_info": {
   "codemirror_mode": {
    "name": "ipython",
    "version": 3
   },
   "file_extension": ".py",
   "mimetype": "text/x-python",
   "name": "python",
   "nbconvert_exporter": "python",
   "pygments_lexer": "ipython3",
   "version": "3.9.13"
  },
  "orig_nbformat": 4,
  "vscode": {
   "interpreter": {
    "hash": "663e50e37becc1d53f39f342eec15d3c22c0771839e1c61f0c2308195e9fefc0"
   }
  }
 },
 "nbformat": 4,
 "nbformat_minor": 2
}
